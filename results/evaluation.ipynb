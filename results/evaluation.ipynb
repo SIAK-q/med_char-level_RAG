{
 "cells": [
  {
   "cell_type": "code",
   "execution_count": null,
   "id": "0c83043a-72be-4fd6-9ce8-0ecb11bac40a",
   "metadata": {
    "tags": []
   },
   "outputs": [],
   "source": [
    "import subprocess\n",
    "import os\n",
    "\n",
    "result = subprocess.run('bash -c \"source /etc/network_turbo && env | grep proxy\"', shell=True, capture_output=True, text=True)\n",
    "output = result.stdout\n",
    "for line in output.splitlines():\n",
    "    if '=' in line:\n",
    "        var, value = line.split('=', 1)\n",
    "        os.environ[var] = value"
   ]
  },
  {
   "cell_type": "code",
   "execution_count": 1,
   "id": "b0e4caec-c319-4a9f-9cd9-0961a7be3659",
   "metadata": {
    "tags": []
   },
   "outputs": [],
   "source": [
    "import torch\n",
    "import torch.nn as nn\n",
    "import torch.nn.functional as F\n",
    "from transformers import AutoTokenizer, AutoModel\n",
    "from peft import PeftModel, get_peft_model, LoraConfig\n",
    "from torch.utils.data import DataLoader, Dataset\n",
    "from torch.cuda.amp import autocast\n",
    "from tqdm.notebook import tqdm\n",
    "import pandas as pd\n",
    "import numpy as np\n",
    "import random\n",
    "import json\n",
    "import os\n",
    "import matplotlib.pyplot as plt"
   ]
  },
  {
   "cell_type": "code",
   "execution_count": 2,
   "id": "d20a6538-c16b-4c6f-bd54-817c0051bd17",
   "metadata": {
    "tags": []
   },
   "outputs": [
    {
     "name": "stdout",
     "output_type": "stream",
     "text": [
      "核心定义加载完毕。\n"
     ]
    }
   ],
   "source": [
    "\n",
    "\n",
    "# --- 核心定义 (从主 Notebook 复制) ---\n",
    "from pinyin_tokenizer import PinyinTokenizer\n",
    "from stroke_tokenizer import StrokeTokenizer\n",
    "\n",
    "class SiameseBERT(nn.Module):\n",
    "    def __init__(self, pretrained_model_name='bert-base-chinese'):\n",
    "        super().__init__()\n",
    "        self.bert = AutoModel.from_pretrained(pretrained_model_name)\n",
    "    def forward(self, input_ids, attention_mask):\n",
    "        outputs = self.bert(input_ids=input_ids, attention_mask=attention_mask)\n",
    "        return outputs.last_hidden_state[:, 0, :]\n",
    "    \n",
    "    # [新增] 补上这个缺失的方法\n",
    "    def resize_token_embeddings(self, new_size):\n",
    "        self.bert.resize_token_embeddings(new_size)\n",
    "\n",
    "class TripletDataset(Dataset):\n",
    "    def __init__(self, data):\n",
    "        self.data = data\n",
    "    def __len__(self):\n",
    "        return len(self.data)\n",
    "    def __getitem__(self, idx):\n",
    "        anchor = self.data[idx]['query']\n",
    "        positive = self.data[idx]['document']\n",
    "        while True:\n",
    "            negative_idx = random.randint(0, len(self.data) - 1)\n",
    "            if negative_idx != idx:\n",
    "                negative = self.data[negative_idx]['document']\n",
    "                break\n",
    "        return {\"anchor\": anchor, \"positive\": positive, \"negative\": negative}\n",
    "\n",
    "def create_eval_collate_fn(tokenizer, max_length):\n",
    "    def collate_fn(batch):\n",
    "        anchors = [item['anchor'] for item in batch]\n",
    "        positives = [item['positive'] for item in batch]\n",
    "        negatives = [item['negative'] for item in batch]\n",
    "        a_enc = tokenizer(anchors, padding=True, truncation=True, max_length=max_length, return_tensors='pt')\n",
    "        p_enc = tokenizer(positives, padding=True, truncation=True, max_length=max_length, return_tensors='pt')\n",
    "        n_enc = tokenizer(negatives, padding=True, truncation=True, max_length=max_length, return_tensors='pt')\n",
    "        return {\n",
    "            'anchor_input_ids': a_enc['input_ids'], 'anchor_attention_mask': a_enc['attention_mask'],\n",
    "            'positive_input_ids': p_enc['input_ids'], 'positive_attention_mask': p_enc['attention_mask'],\n",
    "            'negative_input_ids': n_enc['input_ids'], 'negative_attention_mask': n_enc['attention_mask'],\n",
    "        }\n",
    "    return collate_fn\n",
    "\n",
    "print(\"核心定义加载完毕。\")"
   ]
  },
  {
   "cell_type": "code",
   "execution_count": 3,
   "id": "efdad833-59da-442c-9f04-cc011ebc9e08",
   "metadata": {
    "tags": []
   },
   "outputs": [
    {
     "name": "stdout",
     "output_type": "stream",
     "text": [
      "正在从文件加载验证集...\n",
      "成功加载 5000 条验证集样本。\n",
      "评估数据集准备完毕: clean_set (5000), typo_set (6)\n"
     ]
    }
   ],
   "source": [
    "# --- 1. 从文件加载评估所需的数据 ---\n",
    "print(\"正在从文件加载验证集...\")\n",
    "try:\n",
    "    with open('val_data_50k.json', 'r', encoding='utf-8') as f:\n",
    "        val_data = json.load(f)\n",
    "    print(f\"成功加载 {len(val_data)} 条验证集样本。\")\n",
    "    clean_test_dataset = TripletDataset(val_data)\n",
    "except FileNotFoundError:\n",
    "    print(\"错误: 未找到 val_data_50k.json 文件。请先运行主训练 Notebook 生成该文件。\")\n",
    "    val_data = None\n",
    "\n",
    "# --- 2. 创建鲁棒性测试集 ---\n",
    "typo_test_data_raw = [\n",
    "    {'query': '我得了搪尿病怎么办？', 'document': '糖尿病的典型症状是三多一少，即多饮、多尿、多食和体重减轻。'},\n",
    "    {'query': '高血呀怎么办？', 'document': '高血压患者应注意低盐饮食，并遵医嘱服用降压药。'},\n",
    "    {'query': '心脏病有啥前兆', 'document': '胸闷、心悸、呼吸困难可能是心脏病的前兆。'},\n",
    "    {'query': '怎么样才能防至感冒', 'document': '预防感冒需要勤洗手、多通风、加强锻炼。'},\n",
    "    {'query': '小孩发烧物理降温', 'document': '温水擦浴、使用退热贴是婴儿物理降温的常用方法。'},\n",
    "    {'query': '心肌梗塞和心肌梗死一样吗', 'document': '心肌梗死，曾称为心肌梗塞，是冠状动脉急性、持续性缺血缺氧所引起的心肌坏死。'},\n",
    "]\n",
    "typo_test_dataset = TripletDataset(typo_test_data_raw)\n",
    "print(f\"评估数据集准备完毕: clean_set ({len(val_data) if val_data else 0}), typo_set ({len(typo_test_dataset)})\")"
   ]
  },
  {
   "cell_type": "code",
   "execution_count": 5,
   "id": "8bf7e6b9-0f07-4b5a-b25d-23486ac54f1d",
   "metadata": {
    "tags": []
   },
   "outputs": [
    {
     "name": "stdout",
     "output_type": "stream",
     "text": [
      "\n",
      "--- Evaluating Model: baseline_lora ---\n"
     ]
    },
    {
     "name": "stderr",
     "output_type": "stream",
     "text": [
      "Some weights of the model checkpoint at bert-base-chinese were not used when initializing BertModel: ['cls.seq_relationship.bias', 'cls.predictions.transform.LayerNorm.weight', 'cls.predictions.transform.LayerNorm.bias', 'cls.predictions.bias', 'cls.seq_relationship.weight', 'cls.predictions.transform.dense.bias', 'cls.predictions.transform.dense.weight']\n",
      "- This IS expected if you are initializing BertModel from the checkpoint of a model trained on another task or with another architecture (e.g. initializing a BertForSequenceClassification model from a BertForPreTraining model).\n",
      "- This IS NOT expected if you are initializing BertModel from the checkpoint of a model that you expect to be exactly identical (initializing a BertForSequenceClassification model from a BertForSequenceClassification model).\n"
     ]
    },
    {
     "data": {
      "application/vnd.jupyter.widget-view+json": {
       "model_id": "",
       "version_major": 2,
       "version_minor": 0
      },
      "text/plain": [
       "Evaluating:   0%|          | 0/157 [00:00<?, ?it/s]"
      ]
     },
     "metadata": {},
     "output_type": "display_data"
    },
    {
     "name": "stdout",
     "output_type": "stream",
     "text": [
      "Accuracy on Clean Set: 0.9660\n"
     ]
    },
    {
     "data": {
      "application/vnd.jupyter.widget-view+json": {
       "model_id": "",
       "version_major": 2,
       "version_minor": 0
      },
      "text/plain": [
       "Evaluating:   0%|          | 0/1 [00:00<?, ?it/s]"
      ]
     },
     "metadata": {},
     "output_type": "display_data"
    },
    {
     "name": "stdout",
     "output_type": "stream",
     "text": [
      "Accuracy on Typo Set (Robustness): 1.0000\n",
      "\n",
      "--- Evaluating Model: pinyin_lora ---\n",
      "Rebuilding pinyin tokenizer...\n"
     ]
    },
    {
     "name": "stderr",
     "output_type": "stream",
     "text": [
      "Some weights of the model checkpoint at bert-base-chinese were not used when initializing BertModel: ['cls.seq_relationship.bias', 'cls.predictions.transform.LayerNorm.weight', 'cls.predictions.transform.LayerNorm.bias', 'cls.predictions.bias', 'cls.seq_relationship.weight', 'cls.predictions.transform.dense.bias', 'cls.predictions.transform.dense.weight']\n",
      "- This IS expected if you are initializing BertModel from the checkpoint of a model trained on another task or with another architecture (e.g. initializing a BertForSequenceClassification model from a BertForPreTraining model).\n",
      "- This IS NOT expected if you are initializing BertModel from the checkpoint of a model that you expect to be exactly identical (initializing a BertForSequenceClassification model from a BertForSequenceClassification model).\n"
     ]
    },
    {
     "data": {
      "application/vnd.jupyter.widget-view+json": {
       "model_id": "",
       "version_major": 2,
       "version_minor": 0
      },
      "text/plain": [
       "Evaluating:   0%|          | 0/157 [00:00<?, ?it/s]"
      ]
     },
     "metadata": {},
     "output_type": "display_data"
    },
    {
     "name": "stdout",
     "output_type": "stream",
     "text": [
      "Accuracy on Clean Set: 0.7796\n"
     ]
    },
    {
     "data": {
      "application/vnd.jupyter.widget-view+json": {
       "model_id": "",
       "version_major": 2,
       "version_minor": 0
      },
      "text/plain": [
       "Evaluating:   0%|          | 0/1 [00:00<?, ?it/s]"
      ]
     },
     "metadata": {},
     "output_type": "display_data"
    },
    {
     "name": "stdout",
     "output_type": "stream",
     "text": [
      "Accuracy on Typo Set (Robustness): 0.8333\n",
      "\n",
      "--- Evaluating Model: stroke_lora ---\n",
      "Rebuilding stroke tokenizer...\n"
     ]
    },
    {
     "name": "stderr",
     "output_type": "stream",
     "text": [
      "Some weights of the model checkpoint at bert-base-chinese were not used when initializing BertModel: ['cls.seq_relationship.bias', 'cls.predictions.transform.LayerNorm.weight', 'cls.predictions.transform.LayerNorm.bias', 'cls.predictions.bias', 'cls.seq_relationship.weight', 'cls.predictions.transform.dense.bias', 'cls.predictions.transform.dense.weight']\n",
      "- This IS expected if you are initializing BertModel from the checkpoint of a model trained on another task or with another architecture (e.g. initializing a BertForSequenceClassification model from a BertForPreTraining model).\n",
      "- This IS NOT expected if you are initializing BertModel from the checkpoint of a model that you expect to be exactly identical (initializing a BertForSequenceClassification model from a BertForSequenceClassification model).\n"
     ]
    },
    {
     "data": {
      "application/vnd.jupyter.widget-view+json": {
       "model_id": "",
       "version_major": 2,
       "version_minor": 0
      },
      "text/plain": [
       "Evaluating:   0%|          | 0/625 [00:00<?, ?it/s]"
      ]
     },
     "metadata": {},
     "output_type": "display_data"
    },
    {
     "name": "stdout",
     "output_type": "stream",
     "text": [
      "Accuracy on Clean Set: 0.7728\n"
     ]
    },
    {
     "data": {
      "application/vnd.jupyter.widget-view+json": {
       "model_id": "",
       "version_major": 2,
       "version_minor": 0
      },
      "text/plain": [
       "Evaluating:   0%|          | 0/1 [00:00<?, ?it/s]"
      ]
     },
     "metadata": {},
     "output_type": "display_data"
    },
    {
     "name": "stdout",
     "output_type": "stream",
     "text": [
      "Accuracy on Typo Set (Robustness): 0.6667\n",
      "\n",
      "\n",
      "--- Final Evaluation Summary ---\n",
      "| Model         |   Clean Set Accuracy |   Typo Set Accuracy |\n",
      "|:--------------|---------------------:|--------------------:|\n",
      "| baseline_lora |               0.966  |            1        |\n",
      "| pinyin_lora   |               0.7796 |            0.833333 |\n",
      "| stroke_lora   |               0.7728 |            0.666667 |\n"
     ]
    }
   ],
   "source": [
    "# [替换此单元格]\n",
    "import torch\n",
    "import torch.nn.functional as F\n",
    "from tqdm.notebook import tqdm\n",
    "from peft import PeftModel, get_peft_model, LoraConfig\n",
    "import pandas as pd\n",
    "import numpy as np\n",
    "import os # 确保 os 已导入\n",
    "\n",
    "# --- 1. 定义评估函数 (不变) ---\n",
    "def evaluate_model(model, tokenizer, test_dataset, batch_size, max_length, device):\n",
    "    model.eval()\n",
    "    correct_predictions = 0\n",
    "    total_samples = 0\n",
    "    collate_fn = create_eval_collate_fn(tokenizer, max_length)\n",
    "    test_loader = DataLoader(test_dataset, batch_size=batch_size, collate_fn=collate_fn)\n",
    "    \n",
    "    progress_bar = tqdm(test_loader, desc=\"Evaluating\", leave=False)\n",
    "    with torch.no_grad():\n",
    "        with torch.cuda.amp.autocast(enabled=True):\n",
    "            for batch in progress_bar:\n",
    "                anchor_vec = model(batch['anchor_input_ids'].to(device), batch['anchor_attention_mask'].to(device))\n",
    "                positive_vec = model(batch['positive_input_ids'].to(device), batch['positive_attention_mask'].to(device))\n",
    "                negative_vec = model(batch['negative_input_ids'].to(device), batch['negative_attention_mask'].to(device))\n",
    "                sim_positive = F.cosine_similarity(anchor_vec, positive_vec)\n",
    "                sim_negative = F.cosine_similarity(anchor_vec, negative_vec)\n",
    "                correct_predictions += (sim_positive > sim_negative).sum().item()\n",
    "                total_samples += len(anchor_vec)\n",
    "    accuracy = correct_predictions / total_samples if total_samples > 0 else 0\n",
    "    return {\"accuracy\": accuracy}\n",
    "\n",
    "# --- 2. [修正] 主评估流程 ---\n",
    "modes_to_evaluate = ['baseline_lora', 'pinyin_lora', 'stroke_lora']\n",
    "final_results = []\n",
    "DEVICE = torch.device(\"cuda\" if torch.cuda.is_available() else \"cpu\")\n",
    "\n",
    "EXPERIMENT_CONFIGS = {\n",
    "    'baseline_lora': {'epochs': 10, 'batch_size': 32, 'lr': 1e-4, 'max_length': 128, 'model_name': 'bert-base-chinese', 'patience': 2, 'lora_r': 8, 'lora_alpha': 16},\n",
    "    'pinyin_lora': {'epochs': 10, 'batch_size': 32, 'lr': 2e-4, 'max_length': 256, 'model_name': 'bert-base-chinese', 'patience': 2, 'lora_r': 8, 'lora_alpha': 16},\n",
    "    'stroke_lora': {'epochs': 10, 'batch_size': 8, 'lr': 2e-4, 'max_length': 256, 'model_name': 'bert-base-chinese', 'patience': 2, 'lora_r': 8, 'lora_alpha': 16}\n",
    "}\n",
    "\n",
    "if val_data:\n",
    "    for mode in modes_to_evaluate:\n",
    "        print(f\"\\n--- Evaluating Model: {mode} ---\")\n",
    "        config = EXPERIMENT_CONFIGS[mode]\n",
    "        \n",
    "        # a. 动态加载或重建 Tokenizer\n",
    "        tokenizer = AutoTokenizer.from_pretrained(config['model_name'])\n",
    "        \n",
    "        if 'pinyin' in mode:\n",
    "            print(\"Rebuilding pinyin tokenizer...\")\n",
    "            custom_tokenizer = PinyinTokenizer()\n",
    "            new_tokens = [t for t in custom_tokenizer.token2id.keys() if t not in tokenizer.vocab]\n",
    "            tokenizer.add_tokens(new_tokens)\n",
    "        elif 'stroke' in mode:\n",
    "            print(\"Rebuilding stroke tokenizer...\")\n",
    "            # [修正] 使用正确的文件名，并在加载前强制检查文件是否存在\n",
    "            stroke_map_file = 'autodl-tmp/zh2letter.txt' # <-- 请再次确认你的正确文件名是 zh2text.txt 还是 zh2letter.txt\n",
    "            if not os.path.exists(stroke_map_file):\n",
    "                raise FileNotFoundError(f\"CRITICAL: Stroke mapping file '{stroke_map_file}' not found. Evaluation cannot continue.\")\n",
    "            \n",
    "            custom_tokenizer = StrokeTokenizer(zh2text_file=stroke_map_file)\n",
    "            new_tokens = [t for t in custom_tokenizer.stroke2id.keys() if t not in tokenizer.vocab]\n",
    "            tokenizer.add_tokens(new_tokens)\n",
    "\n",
    "        # b. 加载 LoRA 模型\n",
    "        base_model = SiameseBERT(pretrained_model_name=config['model_name'])\n",
    "        if 'baseline' not in mode:\n",
    "            base_model.resize_token_embeddings(len(tokenizer))\n",
    "        lora_config = LoraConfig(r=config['lora_r'], lora_alpha=config['lora_alpha'], target_modules=[\"query\", \"key\", \"value\"], lora_dropout=0.1, bias=\"none\")\n",
    "        model = get_peft_model(base_model, lora_config)\n",
    "        model.load_state_dict(torch.load(f'model_best_{mode}.pth', map_location=DEVICE))\n",
    "        model = model.merge_and_unload()\n",
    "        model.to(DEVICE)\n",
    "\n",
    "        # c. 评估\n",
    "        clean_metrics = evaluate_model(model, tokenizer, clean_test_dataset, config['batch_size'], config['max_length'], DEVICE)\n",
    "        print(f\"Accuracy on Clean Set: {clean_metrics['accuracy']:.4f}\")\n",
    "        typo_metrics = evaluate_model(model, tokenizer, typo_test_dataset, config['batch_size'], config['max_length'], DEVICE)\n",
    "        print(f\"Accuracy on Typo Set (Robustness): {typo_metrics['accuracy']:.4f}\")\n",
    "        \n",
    "        final_results.append({\"Model\": mode, \"Clean Set Accuracy\": clean_metrics['accuracy'], \"Typo Set Accuracy\": typo_metrics['accuracy']})\n",
    "        del model, tokenizer, base_model\n",
    "        torch.cuda.empty_cache()\n",
    "else:\n",
    "    print(\"评估无法进行，因为验证集数据未成功加载。\")\n",
    "\n",
    "# --- 3. 汇总并展示结果 ---\n",
    "results_df = pd.DataFrame(final_results)\n",
    "print(\"\\n\\n--- Final Evaluation Summary ---\")\n",
    "print(results_df.to_markdown(index=False))"
   ]
  },
  {
   "cell_type": "code",
   "execution_count": 6,
   "id": "953ad6f5-2a8f-4dbe-bc04-da38b117c660",
   "metadata": {},
   "outputs": [
    {
     "data": {
      "image/png": "[encoded data removed]",
      "text/plain": [
       "<Figure size 1200x700 with 1 Axes>"
      ]
     },
     "metadata": {},
     "output_type": "display_data"
    }
   ],
   "source": [
    "# --- 6. 可视化评估结果 ---\n",
    "if final_results:\n",
    "    # 设置模型顺序和颜色，以匹配之前的 loss 图\n",
    "    results_df['Model'] = pd.Categorical(results_df['Model'], categories=['baseline_lora', 'pinyin_lora', 'stroke_lora'], ordered=True)\n",
    "    results_df = results_df.sort_values('Model')\n",
    "    colors = ['#1f77b4', '#ff7f0e', '#2ca02c']\n",
    "\n",
    "    # 绘制分组条形图\n",
    "    fig, ax = plt.subplots(figsize=(12, 7))\n",
    "    bar_width = 0.35\n",
    "    index = np.arange(len(results_df['Model']))\n",
    "\n",
    "    bar1 = ax.bar(index - bar_width/2, results_df['Clean Set Accuracy'], bar_width, label='Clean Set Accuracy', color=colors[0])\n",
    "    bar2 = ax.bar(index + bar_width/2, results_df['Typo Set Accuracy'], bar_width, label='Typo Set Accuracy', color=colors[1])\n",
    "\n",
    "    ax.set_ylabel('Accuracy')\n",
    "    ax.set_title('Model Accuracy on Clean vs. Typo Datasets', fontsize=16)\n",
    "    ax.set_xticks(index)\n",
    "    ax.set_xticklabels(results_df['Model'])\n",
    "    ax.legend()\n",
    "    \n",
    "    # 在条形图上显示具体数值\n",
    "    for bar in bar1 + bar2:\n",
    "        yval = bar.get_height()\n",
    "        ax.text(bar.get_x() + bar.get_width()/2.0, yval, f'{yval:.3f}', va='bottom', ha='center')\n",
    "\n",
    "    fig.tight_layout()\n",
    "    plt.savefig('evaluation_accuracy.png')\n",
    "    plt.show()"
   ]
  },
  {
   "cell_type": "code",
   "execution_count": null,
   "id": "3cf75523-656d-4ec0-aab8-78e7b7722cb6",
   "metadata": {},
   "outputs": [],
   "source": []
  }
 ],
 "metadata": {
  "kernelspec": {
   "display_name": "Python 3 (ipykernel)",
   "language": "python",
   "name": "python3"
  },
  "language_info": {
   "codemirror_mode": {
    "name": "ipython",
    "version": 3
   },
   "file_extension": ".py",
   "mimetype": "text/x-python",
   "name": "python",
   "nbconvert_exporter": "python",
   "pygments_lexer": "ipython3",
   "version": "3.8.10"
  }
 },
 "nbformat": 4,
 "nbformat_minor": 5
}
