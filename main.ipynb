{
 "cells": [
  {
   "cell_type": "code",
   "execution_count": 1,
   "id": "eaab3c42-b02d-4a7f-9cd3-8fc574e73095",
   "metadata": {
    "tags": []
   },
   "outputs": [],
   "source": [
    "import torch\n",
    "import torch.nn as nn\n",
    "import torch.optim as optim\n",
    "from torch.utils.data import DataLoader, Dataset\n",
    "import pandas as pd\n",
    "from transformers import AutoTokenizer, AutoModel, get_linear_schedule_with_warmup # <-- 修改此行\n",
    "import logging\n",
    "from tqdm.notebook import tqdm\n",
    "from peft import get_peft_model, LoraConfig\n",
    "\n",
    "from pinyin_tokenizer import PinyinTokenizer\n",
    "from stroke_tokenizer import StrokeTokenizer\n",
    "\n",
    "logging.basicConfig(level=logging.INFO, format='%(asctime)s - %(levelname)s - %(message)s')"
   ]
  },
  {
   "cell_type": "code",
   "execution_count": 2,
   "id": "4e78756e-a029-45f6-b95d-d74a0e9ebbe5",
   "metadata": {
    "tags": []
   },
   "outputs": [],
   "source": [
    "import random\n",
    "import numpy as np\n",
    "import torch\n",
    "\n",
    "def set_seed(seed):\n",
    "    random.seed(seed)\n",
    "    np.random.seed(seed)\n",
    "    torch.manual_seed(seed)\n",
    "    if torch.cuda.is_available():\n",
    "        torch.cuda.manual_seed_all(seed)\n",
    "\n",
    "# 最终实验设置固定种子\n",
    "set_seed(42)"
   ]
  },
  {
   "cell_type": "code",
   "execution_count": 3,
   "id": "e1dbc47b-2145-4bf9-9960-5fc535f29203",
   "metadata": {
    "tags": []
   },
   "outputs": [
    {
     "data": {
      "text/plain": [
       "'/root'"
      ]
     },
     "execution_count": 3,
     "metadata": {},
     "output_type": "execute_result"
    }
   ],
   "source": [
    "import os\n",
    "os.getcwd()"
   ]
  },
  {
   "cell_type": "code",
   "execution_count": 4,
   "id": "30f4ff86-0dde-4408-bbfb-25173b0813bc",
   "metadata": {
    "tags": []
   },
   "outputs": [
    {
     "name": "stdout",
     "output_type": "stream",
     "text": [
      "数据加载与清洗完成: 792098 条有效样本。\n",
      "已通过分层抽样选取 50000 条样本用于实验。\n",
      "\n",
      "--- 抽样后数据集中各科室样本数分布 ---\n",
      "department\n",
      "妇产科        7612\n",
      "神经科        2957\n",
      "消化科        2035\n",
      "呼吸科        1763\n",
      "内科         1619\n",
      "           ... \n",
      "肠系膜动脉瘤        1\n",
      "动脉导管未闭        1\n",
      "精神疾病          1\n",
      "外阴平滑肌肉瘤       1\n",
      "关节科           1\n",
      "Name: count, Length: 226, dtype: int64\n",
      "--- 分布情况显示完毕 ---\n",
      "\n",
      "数据集划分: 45000 条训练样本, 5000 条验证样本。\n",
      "TripletDataset 实例创建成功。\n",
      "\n",
      "训练集和验证集已分别保存到 train_data_50k.json 和 val_data_50k.json\n"
     ]
    }
   ],
   "source": [
    "\n",
    "import pandas as pd\n",
    "import glob\n",
    "import os\n",
    "from sklearn.model_selection import train_test_split\n",
    "import random\n",
    "\n",
    "# 1. 加载并合并数据\n",
    "data_root_path = 'autodl-tmp/Data_数据/'\n",
    "file_paths = glob.glob(os.path.join(data_root_path, '**', '*.csv'), recursive=True)\n",
    "if not file_paths:\n",
    "    raise FileNotFoundError(f\"在路径 {data_root_path} 下没有找到任何 .csv 文件。\")\n",
    "\n",
    "df_list = [pd.read_csv(p, encoding='gb18030') for p in file_paths]\n",
    "df = pd.concat(df_list, ignore_index=True)\n",
    "\n",
    "# 2. 清洗与格式化\n",
    "df = df.rename(columns={'ask': 'query', 'answer': 'document'})\n",
    "df.dropna(subset=['query', 'document', 'department'], inplace=True)\n",
    "class_counts = df['department'].value_counts()\n",
    "classes_to_keep = class_counts[class_counts > 1].index\n",
    "df = df[df['department'].isin(classes_to_keep)]\n",
    "print(f\"数据加载与清洗完成: {len(df)} 条有效样本。\")\n",
    "\n",
    "# 3. 分层抽样\n",
    "N = 50000\n",
    "sample_size = min(N, len(df))\n",
    "_, sampled_df = train_test_split(\n",
    "    df, test_size=sample_size / len(df), stratify=df['department'], random_state=42\n",
    ")\n",
    "print(f\"已通过分层抽样选取 {len(sampled_df)} 条样本用于实验。\")\n",
    "# [新增] 查看采样后各科室的样本分布\n",
    "print(\"\\n--- 抽样后数据集中各科室样本数分布 ---\")\n",
    "department_counts = sampled_df['department'].value_counts()\n",
    "print(department_counts)\n",
    "print(\"--- 分布情况显示完毕 ---\\n\")\n",
    "\n",
    "\n",
    "all_data = sampled_df[['query', 'document']].to_dict('records')\n",
    "\n",
    "# 4. 最终划分训练/验证集\n",
    "train_data, val_data = train_test_split(all_data, test_size=0.1, random_state=42)\n",
    "print(f\"数据集划分: {len(train_data)} 条训练样本, {len(val_data)} 条验证样本。\")\n",
    "\n",
    "\n",
    "# 5. [修改] 定义并创建支持负采样的 TripletDataset\n",
    "class TripletDataset(Dataset):\n",
    "    def __init__(self, data):\n",
    "        self.data = data\n",
    "\n",
    "    def __len__(self):\n",
    "        return len(self.data)\n",
    "\n",
    "    def __getitem__(self, idx):\n",
    "        anchor = self.data[idx]['query']\n",
    "        positive = self.data[idx]['document']\n",
    "        \n",
    "        # 随机选择一个负样本\n",
    "        while True:\n",
    "            negative_idx = random.randint(0, len(self.data) - 1)\n",
    "            # 确保负样本不是当前的正样本\n",
    "            if negative_idx != idx:\n",
    "                negative = self.data[negative_idx]['document']\n",
    "                break\n",
    "        \n",
    "        return {\"anchor\": anchor, \"positive\": positive, \"negative\": negative}\n",
    "\n",
    "train_dataset = TripletDataset(train_data)\n",
    "val_dataset = TripletDataset(val_data)\n",
    "print(\"TripletDataset 实例创建成功。\")\n",
    "import json\n",
    "\n",
    "#  保存训练集和验证集到文件\n",
    "# 将数据保存为 JSON 文件，以便评估时复用\n",
    "with open('train_data_50k.json', 'w', encoding='utf-8') as f:\n",
    "    json.dump(train_data, f, ensure_ascii=False, indent=2)\n",
    "\n",
    "with open('val_data_50k.json', 'w', encoding='utf-8') as f:\n",
    "    json.dump(val_data, f, ensure_ascii=False, indent=2)\n",
    "\n",
    "print(\"\\n训练集和验证集已分别保存到 train_data_50k.json 和 val_data_50k.json\")"
   ]
  },
  {
   "cell_type": "code",
   "execution_count": 5,
   "id": "f1f2a712-6293-40ba-9ccb-f158d28329bc",
   "metadata": {
    "tags": []
   },
   "outputs": [],
   "source": [
    "# [替换此单元格]\n",
    "import json\n",
    "from torch.cuda.amp import autocast, GradScaler\n",
    "# --- 模型架构 (不变) ---\n",
    "class SiameseBERT(nn.Module):\n",
    "    def __init__(self, pretrained_model_name='bert-base-chinese'):\n",
    "        super().__init__()\n",
    "        self.bert = AutoModel.from_pretrained(pretrained_model_name)\n",
    "    def forward(self, input_ids, attention_mask):\n",
    "        outputs = self.bert(input_ids=input_ids, attention_mask=attention_mask)\n",
    "        return outputs.last_hidden_state[:, 0, :]\n",
    "    def resize_token_embeddings(self, new_size):\n",
    "        self.bert.resize_token_embeddings(new_size)\n",
    "\n",
    "# --- Collate Function (不变) ---\n",
    "def create_triplet_collate_fn(bert_tokenizer, custom_tokenizer=None, max_length=128):\n",
    "    def collate_fn(batch):\n",
    "        anchors = [item['anchor'] for item in batch]\n",
    "        positives = [item['positive'] for item in batch]\n",
    "        negatives = [item['negative'] for item in batch]\n",
    "        def tokenize_text(texts):\n",
    "            if custom_tokenizer:\n",
    "                if hasattr(custom_tokenizer, 'text_to_strokes'): # 笔画\n",
    "                    token_lists = [custom_tokenizer.text_to_strokes(t) for t in texts]\n",
    "                else: # 拼音\n",
    "                    token_lists = [[custom_tokenizer.id2token.get(i, '[UNK]') for i in custom_tokenizer.encode(t)] for t in texts]\n",
    "                return bert_tokenizer(token_lists, is_split_into_words=True, padding=True, truncation=True, max_length=max_length, return_tensors='pt')\n",
    "            else:\n",
    "                return bert_tokenizer(texts, padding=True, truncation=True, max_length=max_length, return_tensors='pt')\n",
    "        a_enc, p_enc, n_enc = tokenize_text(anchors), tokenize_text(positives), tokenize_text(negatives)\n",
    "        return {\n",
    "            'anchor_input_ids': a_enc['input_ids'], 'anchor_attention_mask': a_enc['attention_mask'],\n",
    "            'positive_input_ids': p_enc['input_ids'], 'positive_attention_mask': p_enc['attention_mask'],\n",
    "            'negative_input_ids': n_enc['input_ids'], 'negative_attention_mask': n_enc['attention_mask'],\n",
    "        }\n",
    "    return collate_fn\n",
    "\n",
    "# --- 训练/验证循环 (最终版) ---\n",
    "def train_loop(model, loader, optimizer, loss_fn, device, scheduler, scaler):\n",
    "    model.train()\n",
    "    total_loss = 0\n",
    "    progress_bar = tqdm(loader, desc=\"Training\")\n",
    "    for batch in progress_bar:\n",
    "        optimizer.zero_grad()\n",
    "        with autocast(enabled=True):\n",
    "            anchor_vec = model(batch['anchor_input_ids'].to(device), batch['anchor_attention_mask'].to(device))\n",
    "            positive_vec = model(batch['positive_input_ids'].to(device), batch['positive_attention_mask'].to(device))\n",
    "            negative_vec = model(batch['negative_input_ids'].to(device), batch['negative_attention_mask'].to(device))\n",
    "            loss = loss_fn(anchor_vec, positive_vec, negative_vec)\n",
    "        scaler.scale(loss).backward()\n",
    "        scaler.step(optimizer)\n",
    "        scaler.update()\n",
    "        scheduler.step()\n",
    "        total_loss += loss.item()\n",
    "        progress_bar.set_postfix(loss=f\"{loss.item():.4f}\")\n",
    "    avg_loss = total_loss / len(loader)\n",
    "    print(f\"Epoch Average Training Loss: {avg_loss:.4f}\")\n",
    "    return avg_loss\n",
    "\n",
    "def validation_loop(model, loader, loss_fn, device):\n",
    "    model.eval()\n",
    "    total_loss = 0\n",
    "    progress_bar = tqdm(loader, desc=\"Validation\")\n",
    "    with torch.no_grad():\n",
    "        with autocast(enabled=True):\n",
    "            for batch in progress_bar:\n",
    "                anchor_vec = model(batch['anchor_input_ids'].to(device), batch['anchor_attention_mask'].to(device))\n",
    "                positive_vec = model(batch['positive_input_ids'].to(device), batch['positive_attention_mask'].to(device))\n",
    "                negative_vec = model(batch['negative_input_ids'].to(device), batch['negative_attention_mask'].to(device))\n",
    "                loss = loss_fn(anchor_vec, positive_vec, negative_vec)\n",
    "                total_loss += loss.item()\n",
    "    avg_loss = total_loss / len(loader)\n",
    "    print(f\"Epoch Average Validation Loss: {avg_loss:.4f}\")\n",
    "    return avg_loss\n",
    "\n",
    "# --- 总实验流程 (最终版) ---\n",
    "def run_experiment(mode, config, train_dataset, val_dataset, custom_tokenizer=None):\n",
    "    print(f\"--- Running Experiment: {mode} ---\")\n",
    "    print(f\"Config: {config}\")\n",
    "    DEVICE = torch.device(\"cuda\" if torch.cuda.is_available() else \"cpu\")\n",
    "    scaler = GradScaler()\n",
    "    history = {\"train_loss\": [], \"val_loss\": []}\n",
    "    \n",
    "    bert_tokenizer = AutoTokenizer.from_pretrained(config['model_name'])\n",
    "    model = SiameseBERT(pretrained_model_name=config['model_name'])\n",
    "    if custom_tokenizer:\n",
    "        token_lib = getattr(custom_tokenizer, 'stroke2id', getattr(custom_tokenizer, 'token2id', {})).keys()\n",
    "        new_tokens = [t for t in token_lib if t not in bert_tokenizer.vocab]\n",
    "        bert_tokenizer.add_tokens(new_tokens)\n",
    "        model.resize_token_embeddings(len(bert_tokenizer))\n",
    "    lora_config = LoraConfig(r=config.get('lora_r', 8), lora_alpha=config.get('lora_alpha', 16), target_modules=[\"query\", \"key\", \"value\"], lora_dropout=0.1, bias=\"none\")\n",
    "    model = get_peft_model(model, lora_config)\n",
    "    print(\"\\nModel with LoRA applied:\"); model.print_trainable_parameters(); model.to(DEVICE)\n",
    "    \n",
    "    collate_fn = create_triplet_collate_fn(bert_tokenizer, custom_tokenizer, max_length=config['max_length'])\n",
    "    train_loader = DataLoader(train_dataset, batch_size=config['batch_size'], collate_fn=collate_fn, shuffle=True, num_workers=4, pin_memory=True)\n",
    "    val_loader = DataLoader(val_dataset, batch_size=config['batch_size'], collate_fn=collate_fn, num_workers=4, pin_memory=True)\n",
    "    optimizer = optim.Adam(model.parameters(), lr=config['lr'])\n",
    "    loss_fn = nn.TripletMarginLoss(margin=1.0)\n",
    "    \n",
    "    num_training_steps = len(train_loader) * config['epochs']\n",
    "    num_warmup_steps = int(num_training_steps * 0.1)\n",
    "    scheduler = get_linear_schedule_with_warmup(optimizer, num_warmup_steps=num_warmup_steps, num_training_steps=num_training_steps)\n",
    "    print(f\"Total training steps: {num_training_steps}, Warmup steps: {num_warmup_steps}\")\n",
    "    \n",
    "    patience_counter, best_val_loss, best_epoch = 0, float('inf'), 0\n",
    "    for epoch in range(config['epochs']):\n",
    "        print(f\"========== Epoch {epoch+1}/{config['epochs']} ==========\")\n",
    "        avg_train_loss = train_loop(model, train_loader, optimizer, loss_fn, DEVICE, scheduler, scaler)\n",
    "        avg_val_loss = validation_loop(model, val_loader, loss_fn, DEVICE)\n",
    "        history[\"train_loss\"].append(avg_train_loss); history[\"val_loss\"].append(avg_val_loss)\n",
    "        if avg_val_loss < best_val_loss:\n",
    "            best_val_loss, best_epoch, patience_counter = avg_val_loss, epoch + 1, 0\n",
    "            torch.save(model.state_dict(), f'model_best_{mode}.pth'); print(f\"Validation loss improved. Saving best model from epoch {best_epoch}.\")\n",
    "        else:\n",
    "            patience_counter += 1; print(f\"Validation loss did not improve. Patience: {patience_counter}/{config['patience']}\")\n",
    "        if patience_counter >= config['patience']:\n",
    "            print(\"Early stopping triggered.\"); break\n",
    "            \n",
    "    print(f\"\\n--- Experiment {mode} Finished ---\"); print(f\"Best validation loss: {best_val_loss:.4f} at epoch {best_epoch}\")\n",
    "    results = {\"config\": config, \"best_val_loss\": best_val_loss, \"best_epoch\": best_epoch, \"history\": history}\n",
    "    with open(f'results_{mode}.json', 'w', encoding='utf-8') as f:\n",
    "        json.dump(results, f, indent=4, ensure_ascii=False)\n",
    "    print(f\"Results for {mode} saved to results_{mode}.json\")"
   ]
  },
  {
   "cell_type": "code",
   "execution_count": 6,
   "id": "363a900f-075e-4775-88fa-2d4be95ec6ef",
   "metadata": {
    "tags": []
   },
   "outputs": [],
   "source": [
    "\n",
    "# --- 实验配置中心 ---\n",
    "\n",
    "COMMON_CONFIG = {\n",
    "    'model_name': 'bert-base-chinese',\n",
    "    'patience': 2,\n",
    "    'lora_r': 8,\n",
    "    'lora_alpha': 16,\n",
    "}\n",
    "\n",
    "EXPERIMENT_CONFIGS = {\n",
    "    'baseline_lora': {\n",
    "        'epochs': 10,\n",
    "        'batch_size': 32, # 使用LoRA后，可以尝试更大的batch_size\n",
    "        'lr': 1e-4,\n",
    "        'max_length': 128,\n",
    "        **COMMON_CONFIG\n",
    "    },\n",
    "    'pinyin_lora': {\n",
    "        'epochs': 10,\n",
    "        'batch_size': 32,\n",
    "        'lr': 2e-4,\n",
    "        'max_length': 256,\n",
    "        **COMMON_CONFIG\n",
    "    },\n",
    "    'stroke_lora': {\n",
    "        'epochs': 10,\n",
    "        'batch_size': 8, # 序列最长，batch_size 谨慎设置\n",
    "        'lr': 2e-4,\n",
    "        'max_length': 256,\n",
    "        **COMMON_CONFIG\n",
    "    }\n",
    "}"
   ]
  },
  {
   "cell_type": "code",
   "execution_count": 7,
   "id": "1a1bced9-1b9c-4088-b77f-906c380a3b15",
   "metadata": {
    "tags": []
   },
   "outputs": [
    {
     "name": "stdout",
     "output_type": "stream",
     "text": [
      "--- Running Experiment: baseline_lora ---\n",
      "Config: {'epochs': 10, 'batch_size': 32, 'lr': 0.0001, 'max_length': 128, 'model_name': 'bert-base-chinese', 'patience': 2, 'lora_r': 8, 'lora_alpha': 16}\n"
     ]
    },
    {
     "name": "stderr",
     "output_type": "stream",
     "text": [
      "Some weights of the model checkpoint at bert-base-chinese were not used when initializing BertModel: ['cls.seq_relationship.bias', 'cls.predictions.transform.dense.bias', 'cls.predictions.transform.LayerNorm.weight', 'cls.predictions.transform.LayerNorm.bias', 'cls.predictions.bias', 'cls.seq_relationship.weight', 'cls.predictions.transform.dense.weight']\n",
      "- This IS expected if you are initializing BertModel from the checkpoint of a model trained on another task or with another architecture (e.g. initializing a BertForSequenceClassification model from a BertForPreTraining model).\n",
      "- This IS NOT expected if you are initializing BertModel from the checkpoint of a model that you expect to be exactly identical (initializing a BertForSequenceClassification model from a BertForSequenceClassification model).\n"
     ]
    },
    {
     "name": "stdout",
     "output_type": "stream",
     "text": [
      "\n",
      "Model with LoRA applied:\n",
      "trainable params: 442,368 || all params: 102,710,016 || trainable%: 0.4307\n",
      "Total training steps: 14070, Warmup steps: 1407\n",
      "========== Epoch 1/10 ==========\n"
     ]
    },
    {
     "data": {
      "application/vnd.jupyter.widget-view+json": {
       "model_id": "d1e91955a493452aa54e7b208f1cb48c",
       "version_major": 2,
       "version_minor": 0
      },
      "text/plain": [
       "Training:   0%|          | 0/1407 [00:00<?, ?it/s]"
      ]
     },
     "metadata": {},
     "output_type": "display_data"
    },
    {
     "name": "stdout",
     "output_type": "stream",
     "text": [
      "Epoch Average Training Loss: 0.2571\n"
     ]
    },
    {
     "data": {
      "application/vnd.jupyter.widget-view+json": {
       "model_id": "ca93135812dc41b6a2fff9823cf68456",
       "version_major": 2,
       "version_minor": 0
      },
      "text/plain": [
       "Validation:   0%|          | 0/157 [00:00<?, ?it/s]"
      ]
     },
     "metadata": {},
     "output_type": "display_data"
    },
    {
     "name": "stdout",
     "output_type": "stream",
     "text": [
      "Epoch Average Validation Loss: 0.1112\n",
      "Validation loss improved. Saving best model from epoch 1.\n",
      "========== Epoch 2/10 ==========\n"
     ]
    },
    {
     "data": {
      "application/vnd.jupyter.widget-view+json": {
       "model_id": "84578d3f65cb472aaef2d92f6a96cca7",
       "version_major": 2,
       "version_minor": 0
      },
      "text/plain": [
       "Training:   0%|          | 0/1407 [00:00<?, ?it/s]"
      ]
     },
     "metadata": {},
     "output_type": "display_data"
    },
    {
     "name": "stdout",
     "output_type": "stream",
     "text": [
      "Epoch Average Training Loss: 0.1202\n"
     ]
    },
    {
     "data": {
      "application/vnd.jupyter.widget-view+json": {
       "model_id": "2c1059a2c11b4ce490bb5588a477e604",
       "version_major": 2,
       "version_minor": 0
      },
      "text/plain": [
       "Validation:   0%|          | 0/157 [00:00<?, ?it/s]"
      ]
     },
     "metadata": {},
     "output_type": "display_data"
    },
    {
     "name": "stdout",
     "output_type": "stream",
     "text": [
      "Epoch Average Validation Loss: 0.0929\n",
      "Validation loss improved. Saving best model from epoch 2.\n",
      "========== Epoch 3/10 ==========\n"
     ]
    },
    {
     "data": {
      "application/vnd.jupyter.widget-view+json": {
       "model_id": "659a46e620014adb8db355b20f229762",
       "version_major": 2,
       "version_minor": 0
      },
      "text/plain": [
       "Training:   0%|          | 0/1407 [00:00<?, ?it/s]"
      ]
     },
     "metadata": {},
     "output_type": "display_data"
    },
    {
     "name": "stdout",
     "output_type": "stream",
     "text": [
      "Epoch Average Training Loss: 0.1085\n"
     ]
    },
    {
     "data": {
      "application/vnd.jupyter.widget-view+json": {
       "model_id": "5dd9df6548744afabdf2e623b6044917",
       "version_major": 2,
       "version_minor": 0
      },
      "text/plain": [
       "Validation:   0%|          | 0/157 [00:00<?, ?it/s]"
      ]
     },
     "metadata": {},
     "output_type": "display_data"
    },
    {
     "name": "stdout",
     "output_type": "stream",
     "text": [
      "Epoch Average Validation Loss: 0.0910\n",
      "Validation loss improved. Saving best model from epoch 3.\n",
      "========== Epoch 4/10 ==========\n"
     ]
    },
    {
     "data": {
      "application/vnd.jupyter.widget-view+json": {
       "model_id": "d7c8e7515b214c4cb87485ad5d5d782d",
       "version_major": 2,
       "version_minor": 0
      },
      "text/plain": [
       "Training:   0%|          | 0/1407 [00:00<?, ?it/s]"
      ]
     },
     "metadata": {},
     "output_type": "display_data"
    },
    {
     "name": "stdout",
     "output_type": "stream",
     "text": [
      "Epoch Average Training Loss: 0.1022\n"
     ]
    },
    {
     "data": {
      "application/vnd.jupyter.widget-view+json": {
       "model_id": "825a79b1ad984eabb074d47149a81536",
       "version_major": 2,
       "version_minor": 0
      },
      "text/plain": [
       "Validation:   0%|          | 0/157 [00:00<?, ?it/s]"
      ]
     },
     "metadata": {},
     "output_type": "display_data"
    },
    {
     "name": "stdout",
     "output_type": "stream",
     "text": [
      "Epoch Average Validation Loss: 0.0905\n",
      "Validation loss improved. Saving best model from epoch 4.\n",
      "========== Epoch 5/10 ==========\n"
     ]
    },
    {
     "data": {
      "application/vnd.jupyter.widget-view+json": {
       "model_id": "b65abb8a08c74522a19ea9f73b60848a",
       "version_major": 2,
       "version_minor": 0
      },
      "text/plain": [
       "Training:   0%|          | 0/1407 [00:00<?, ?it/s]"
      ]
     },
     "metadata": {},
     "output_type": "display_data"
    },
    {
     "name": "stdout",
     "output_type": "stream",
     "text": [
      "Epoch Average Training Loss: 0.0976\n"
     ]
    },
    {
     "data": {
      "application/vnd.jupyter.widget-view+json": {
       "model_id": "be5e1c8d72c24b98bd4f6be1509dd739",
       "version_major": 2,
       "version_minor": 0
      },
      "text/plain": [
       "Validation:   0%|          | 0/157 [00:00<?, ?it/s]"
      ]
     },
     "metadata": {},
     "output_type": "display_data"
    },
    {
     "name": "stdout",
     "output_type": "stream",
     "text": [
      "Epoch Average Validation Loss: 0.0941\n",
      "Validation loss did not improve. Patience: 1/2\n",
      "========== Epoch 6/10 ==========\n"
     ]
    },
    {
     "data": {
      "application/vnd.jupyter.widget-view+json": {
       "model_id": "7a246b7fea6a4114a32a6c4a64b8c283",
       "version_major": 2,
       "version_minor": 0
      },
      "text/plain": [
       "Training:   0%|          | 0/1407 [00:00<?, ?it/s]"
      ]
     },
     "metadata": {},
     "output_type": "display_data"
    },
    {
     "name": "stdout",
     "output_type": "stream",
     "text": [
      "Epoch Average Training Loss: 0.0936\n"
     ]
    },
    {
     "data": {
      "application/vnd.jupyter.widget-view+json": {
       "model_id": "73b44f3f7e4e4428a9690f2203ef1c2f",
       "version_major": 2,
       "version_minor": 0
      },
      "text/plain": [
       "Validation:   0%|          | 0/157 [00:00<?, ?it/s]"
      ]
     },
     "metadata": {},
     "output_type": "display_data"
    },
    {
     "name": "stdout",
     "output_type": "stream",
     "text": [
      "Epoch Average Validation Loss: 0.0950\n",
      "Validation loss did not improve. Patience: 2/2\n",
      "Early stopping triggered.\n",
      "\n",
      "--- Experiment baseline_lora Finished ---\n",
      "Best validation loss: 0.0905 at epoch 4\n",
      "Results for baseline_lora saved to results_baseline_lora.json\n"
     ]
    }
   ],
   "source": [
    "# --- Run Baseline Experiment ---\n",
    "mode = 'baseline_lora'\n",
    "run_experiment(\n",
    "    mode=mode,\n",
    "    config=EXPERIMENT_CONFIGS[mode],\n",
    "    train_dataset=train_dataset,\n",
    "    val_dataset=val_dataset,\n",
    "    custom_tokenizer=None\n",
    ")"
   ]
  },
  {
   "cell_type": "code",
   "execution_count": 8,
   "id": "f49dcf60-7700-4287-865f-478bd440d692",
   "metadata": {
    "tags": []
   },
   "outputs": [
    {
     "name": "stdout",
     "output_type": "stream",
     "text": [
      "--- Running Experiment: pinyin_lora ---\n",
      "Config: {'epochs': 10, 'batch_size': 32, 'lr': 0.0002, 'max_length': 256, 'model_name': 'bert-base-chinese', 'patience': 2, 'lora_r': 8, 'lora_alpha': 16}\n"
     ]
    },
    {
     "name": "stderr",
     "output_type": "stream",
     "text": [
      "Some weights of the model checkpoint at bert-base-chinese were not used when initializing BertModel: ['cls.seq_relationship.bias', 'cls.predictions.transform.dense.bias', 'cls.predictions.transform.LayerNorm.weight', 'cls.predictions.transform.LayerNorm.bias', 'cls.predictions.bias', 'cls.seq_relationship.weight', 'cls.predictions.transform.dense.weight']\n",
      "- This IS expected if you are initializing BertModel from the checkpoint of a model trained on another task or with another architecture (e.g. initializing a BertForSequenceClassification model from a BertForPreTraining model).\n",
      "- This IS NOT expected if you are initializing BertModel from the checkpoint of a model that you expect to be exactly identical (initializing a BertForSequenceClassification model from a BertForSequenceClassification model).\n"
     ]
    },
    {
     "name": "stdout",
     "output_type": "stream",
     "text": [
      "\n",
      "Model with LoRA applied:\n",
      "trainable params: 442,368 || all params: 102,716,160 || trainable%: 0.4307\n",
      "Total training steps: 14070, Warmup steps: 1407\n",
      "========== Epoch 1/10 ==========\n"
     ]
    },
    {
     "data": {
      "application/vnd.jupyter.widget-view+json": {
       "model_id": "740fe4af26ec4828becf09a1b3afac26",
       "version_major": 2,
       "version_minor": 0
      },
      "text/plain": [
       "Training:   0%|          | 0/1407 [00:00<?, ?it/s]"
      ]
     },
     "metadata": {},
     "output_type": "display_data"
    },
    {
     "name": "stdout",
     "output_type": "stream",
     "text": [
      "Epoch Average Training Loss: 0.8096\n"
     ]
    },
    {
     "data": {
      "application/vnd.jupyter.widget-view+json": {
       "model_id": "d022d585f88f4539bbdcbdcdc9212cc6",
       "version_major": 2,
       "version_minor": 0
      },
      "text/plain": [
       "Validation:   0%|          | 0/157 [00:00<?, ?it/s]"
      ]
     },
     "metadata": {},
     "output_type": "display_data"
    },
    {
     "name": "stdout",
     "output_type": "stream",
     "text": [
      "Epoch Average Validation Loss: 0.5969\n",
      "Validation loss improved. Saving best model from epoch 1.\n",
      "========== Epoch 2/10 ==========\n"
     ]
    },
    {
     "data": {
      "application/vnd.jupyter.widget-view+json": {
       "model_id": "4fe34e53a08248d39cd8635628be1512",
       "version_major": 2,
       "version_minor": 0
      },
      "text/plain": [
       "Training:   0%|          | 0/1407 [00:00<?, ?it/s]"
      ]
     },
     "metadata": {},
     "output_type": "display_data"
    },
    {
     "name": "stdout",
     "output_type": "stream",
     "text": [
      "Epoch Average Training Loss: 0.5719\n"
     ]
    },
    {
     "data": {
      "application/vnd.jupyter.widget-view+json": {
       "model_id": "c7ee06e1d84d44bbbbdaec0c2bec4cf3",
       "version_major": 2,
       "version_minor": 0
      },
      "text/plain": [
       "Validation:   0%|          | 0/157 [00:00<?, ?it/s]"
      ]
     },
     "metadata": {},
     "output_type": "display_data"
    },
    {
     "name": "stdout",
     "output_type": "stream",
     "text": [
      "Epoch Average Validation Loss: 0.5170\n",
      "Validation loss improved. Saving best model from epoch 2.\n",
      "========== Epoch 3/10 ==========\n"
     ]
    },
    {
     "data": {
      "application/vnd.jupyter.widget-view+json": {
       "model_id": "f7bbe69360cd4ab5b87bce74df6ef195",
       "version_major": 2,
       "version_minor": 0
      },
      "text/plain": [
       "Training:   0%|          | 0/1407 [00:00<?, ?it/s]"
      ]
     },
     "metadata": {},
     "output_type": "display_data"
    },
    {
     "name": "stdout",
     "output_type": "stream",
     "text": [
      "Epoch Average Training Loss: 0.4897\n"
     ]
    },
    {
     "data": {
      "application/vnd.jupyter.widget-view+json": {
       "model_id": "0295011e4b6847b4944cd715ebb23ae5",
       "version_major": 2,
       "version_minor": 0
      },
      "text/plain": [
       "Validation:   0%|          | 0/157 [00:00<?, ?it/s]"
      ]
     },
     "metadata": {},
     "output_type": "display_data"
    },
    {
     "name": "stdout",
     "output_type": "stream",
     "text": [
      "Epoch Average Validation Loss: 0.4237\n",
      "Validation loss improved. Saving best model from epoch 3.\n",
      "========== Epoch 4/10 ==========\n"
     ]
    },
    {
     "data": {
      "application/vnd.jupyter.widget-view+json": {
       "model_id": "6ab9eb6d66874d9e89647380dbd7b4bf",
       "version_major": 2,
       "version_minor": 0
      },
      "text/plain": [
       "Training:   0%|          | 0/1407 [00:00<?, ?it/s]"
      ]
     },
     "metadata": {},
     "output_type": "display_data"
    },
    {
     "name": "stdout",
     "output_type": "stream",
     "text": [
      "Epoch Average Training Loss: 0.4393\n"
     ]
    },
    {
     "data": {
      "application/vnd.jupyter.widget-view+json": {
       "model_id": "0e7881bd58b046e8a1b1cc1b63b6cac2",
       "version_major": 2,
       "version_minor": 0
      },
      "text/plain": [
       "Validation:   0%|          | 0/157 [00:00<?, ?it/s]"
      ]
     },
     "metadata": {},
     "output_type": "display_data"
    },
    {
     "name": "stdout",
     "output_type": "stream",
     "text": [
      "Epoch Average Validation Loss: 0.3717\n",
      "Validation loss improved. Saving best model from epoch 4.\n",
      "========== Epoch 5/10 ==========\n"
     ]
    },
    {
     "data": {
      "application/vnd.jupyter.widget-view+json": {
       "model_id": "d95fc84b4afb4de6bbc4337d0ee60db5",
       "version_major": 2,
       "version_minor": 0
      },
      "text/plain": [
       "Training:   0%|          | 0/1407 [00:00<?, ?it/s]"
      ]
     },
     "metadata": {},
     "output_type": "display_data"
    },
    {
     "name": "stdout",
     "output_type": "stream",
     "text": [
      "Epoch Average Training Loss: 0.4016\n"
     ]
    },
    {
     "data": {
      "application/vnd.jupyter.widget-view+json": {
       "model_id": "f56eecd929c342b8969823c9efa967fd",
       "version_major": 2,
       "version_minor": 0
      },
      "text/plain": [
       "Validation:   0%|          | 0/157 [00:00<?, ?it/s]"
      ]
     },
     "metadata": {},
     "output_type": "display_data"
    },
    {
     "name": "stdout",
     "output_type": "stream",
     "text": [
      "Epoch Average Validation Loss: 0.3672\n",
      "Validation loss improved. Saving best model from epoch 5.\n",
      "========== Epoch 6/10 ==========\n"
     ]
    },
    {
     "data": {
      "application/vnd.jupyter.widget-view+json": {
       "model_id": "4733d16ffda84f298cd9348d2f517fee",
       "version_major": 2,
       "version_minor": 0
      },
      "text/plain": [
       "Training:   0%|          | 0/1407 [00:00<?, ?it/s]"
      ]
     },
     "metadata": {},
     "output_type": "display_data"
    },
    {
     "name": "stdout",
     "output_type": "stream",
     "text": [
      "Epoch Average Training Loss: 0.3774\n"
     ]
    },
    {
     "data": {
      "application/vnd.jupyter.widget-view+json": {
       "model_id": "2bda44baa91740088d1b6fcb1254c545",
       "version_major": 2,
       "version_minor": 0
      },
      "text/plain": [
       "Validation:   0%|          | 0/157 [00:00<?, ?it/s]"
      ]
     },
     "metadata": {},
     "output_type": "display_data"
    },
    {
     "name": "stdout",
     "output_type": "stream",
     "text": [
      "Epoch Average Validation Loss: 0.3196\n",
      "Validation loss improved. Saving best model from epoch 6.\n",
      "========== Epoch 7/10 ==========\n"
     ]
    },
    {
     "data": {
      "application/vnd.jupyter.widget-view+json": {
       "model_id": "191f073e073c43ab98de6be203aa4213",
       "version_major": 2,
       "version_minor": 0
      },
      "text/plain": [
       "Training:   0%|          | 0/1407 [00:00<?, ?it/s]"
      ]
     },
     "metadata": {},
     "output_type": "display_data"
    },
    {
     "name": "stdout",
     "output_type": "stream",
     "text": [
      "Epoch Average Training Loss: 0.3565\n"
     ]
    },
    {
     "data": {
      "application/vnd.jupyter.widget-view+json": {
       "model_id": "61cde13d036b468db213fae0d29979f1",
       "version_major": 2,
       "version_minor": 0
      },
      "text/plain": [
       "Validation:   0%|          | 0/157 [00:00<?, ?it/s]"
      ]
     },
     "metadata": {},
     "output_type": "display_data"
    },
    {
     "name": "stdout",
     "output_type": "stream",
     "text": [
      "Epoch Average Validation Loss: 0.3146\n",
      "Validation loss improved. Saving best model from epoch 7.\n",
      "========== Epoch 8/10 ==========\n"
     ]
    },
    {
     "data": {
      "application/vnd.jupyter.widget-view+json": {
       "model_id": "df182189a27b45f2a58fd162e7f33648",
       "version_major": 2,
       "version_minor": 0
      },
      "text/plain": [
       "Training:   0%|          | 0/1407 [00:00<?, ?it/s]"
      ]
     },
     "metadata": {},
     "output_type": "display_data"
    },
    {
     "name": "stdout",
     "output_type": "stream",
     "text": [
      "Epoch Average Training Loss: 0.3391\n"
     ]
    },
    {
     "data": {
      "application/vnd.jupyter.widget-view+json": {
       "model_id": "f4bdd8d6831540b78b4a51dd4df0d906",
       "version_major": 2,
       "version_minor": 0
      },
      "text/plain": [
       "Validation:   0%|          | 0/157 [00:00<?, ?it/s]"
      ]
     },
     "metadata": {},
     "output_type": "display_data"
    },
    {
     "name": "stdout",
     "output_type": "stream",
     "text": [
      "Epoch Average Validation Loss: 0.3187\n",
      "Validation loss did not improve. Patience: 1/2\n",
      "========== Epoch 9/10 ==========\n"
     ]
    },
    {
     "data": {
      "application/vnd.jupyter.widget-view+json": {
       "model_id": "3a9365d6a77f417ca176c690a9186080",
       "version_major": 2,
       "version_minor": 0
      },
      "text/plain": [
       "Training:   0%|          | 0/1407 [00:00<?, ?it/s]"
      ]
     },
     "metadata": {},
     "output_type": "display_data"
    },
    {
     "name": "stdout",
     "output_type": "stream",
     "text": [
      "Epoch Average Training Loss: 0.3264\n"
     ]
    },
    {
     "data": {
      "application/vnd.jupyter.widget-view+json": {
       "model_id": "f784e641397745ee929a15fe7d59c629",
       "version_major": 2,
       "version_minor": 0
      },
      "text/plain": [
       "Validation:   0%|          | 0/157 [00:00<?, ?it/s]"
      ]
     },
     "metadata": {},
     "output_type": "display_data"
    },
    {
     "name": "stdout",
     "output_type": "stream",
     "text": [
      "Epoch Average Validation Loss: 0.3010\n",
      "Validation loss improved. Saving best model from epoch 9.\n",
      "========== Epoch 10/10 ==========\n"
     ]
    },
    {
     "data": {
      "application/vnd.jupyter.widget-view+json": {
       "model_id": "3cc5346bf6b34ae3a5e5895354507192",
       "version_major": 2,
       "version_minor": 0
      },
      "text/plain": [
       "Training:   0%|          | 0/1407 [00:00<?, ?it/s]"
      ]
     },
     "metadata": {},
     "output_type": "display_data"
    },
    {
     "name": "stdout",
     "output_type": "stream",
     "text": [
      "Epoch Average Training Loss: 0.3178\n"
     ]
    },
    {
     "data": {
      "application/vnd.jupyter.widget-view+json": {
       "model_id": "6fc55b636e524e1d9f434536ad2ce115",
       "version_major": 2,
       "version_minor": 0
      },
      "text/plain": [
       "Validation:   0%|          | 0/157 [00:00<?, ?it/s]"
      ]
     },
     "metadata": {},
     "output_type": "display_data"
    },
    {
     "name": "stdout",
     "output_type": "stream",
     "text": [
      "Epoch Average Validation Loss: 0.3036\n",
      "Validation loss did not improve. Patience: 1/2\n",
      "\n",
      "--- Experiment pinyin_lora Finished ---\n",
      "Best validation loss: 0.3010 at epoch 9\n",
      "Results for pinyin_lora saved to results_pinyin_lora.json\n"
     ]
    }
   ],
   "source": [
    " # --- Run Pinyin Experiment ---\n",
    "mode = 'pinyin_lora'\n",
    "pinyin_tokenizer = PinyinTokenizer()\n",
    "run_experiment(\n",
    "    mode=mode,\n",
    "    config=EXPERIMENT_CONFIGS[mode],\n",
    "    train_dataset=train_dataset,\n",
    "    val_dataset=val_dataset,\n",
    "    custom_tokenizer=pinyin_tokenizer\n",
    ")"
   ]
  },
  {
   "cell_type": "code",
   "execution_count": 9,
   "id": "9bfb9a42-782b-400d-bbc5-5281d0ad9e74",
   "metadata": {},
   "outputs": [
    {
     "name": "stdout",
     "output_type": "stream",
     "text": [
      "--- Running Experiment: stroke_lora ---\n",
      "Config: {'epochs': 10, 'batch_size': 8, 'lr': 0.0002, 'max_length': 256, 'model_name': 'bert-base-chinese', 'patience': 2, 'lora_r': 8, 'lora_alpha': 16}\n"
     ]
    },
    {
     "name": "stderr",
     "output_type": "stream",
     "text": [
      "Some weights of the model checkpoint at bert-base-chinese were not used when initializing BertModel: ['cls.seq_relationship.bias', 'cls.predictions.transform.dense.bias', 'cls.predictions.transform.LayerNorm.weight', 'cls.predictions.transform.LayerNorm.bias', 'cls.predictions.bias', 'cls.seq_relationship.weight', 'cls.predictions.transform.dense.weight']\n",
      "- This IS expected if you are initializing BertModel from the checkpoint of a model trained on another task or with another architecture (e.g. initializing a BertForSequenceClassification model from a BertForPreTraining model).\n",
      "- This IS NOT expected if you are initializing BertModel from the checkpoint of a model that you expect to be exactly identical (initializing a BertForSequenceClassification model from a BertForSequenceClassification model).\n"
     ]
    },
    {
     "name": "stdout",
     "output_type": "stream",
     "text": [
      "\n",
      "Model with LoRA applied:\n",
      "trainable params: 442,368 || all params: 102,710,016 || trainable%: 0.4307\n",
      "Total training steps: 56250, Warmup steps: 5625\n",
      "========== Epoch 1/10 ==========\n"
     ]
    },
    {
     "data": {
      "application/vnd.jupyter.widget-view+json": {
       "model_id": "6af4b7873ed0403eae8eede2f3227655",
       "version_major": 2,
       "version_minor": 0
      },
      "text/plain": [
       "Training:   0%|          | 0/5625 [00:00<?, ?it/s]"
      ]
     },
     "metadata": {},
     "output_type": "display_data"
    },
    {
     "name": "stdout",
     "output_type": "stream",
     "text": [
      "Epoch Average Training Loss: 0.9769\n"
     ]
    },
    {
     "data": {
      "application/vnd.jupyter.widget-view+json": {
       "model_id": "66929f23c3e04742bddd79df1a8261aa",
       "version_major": 2,
       "version_minor": 0
      },
      "text/plain": [
       "Validation:   0%|          | 0/625 [00:00<?, ?it/s]"
      ]
     },
     "metadata": {},
     "output_type": "display_data"
    },
    {
     "name": "stdout",
     "output_type": "stream",
     "text": [
      "Epoch Average Validation Loss: 0.8579\n",
      "Validation loss improved. Saving best model from epoch 1.\n",
      "========== Epoch 2/10 ==========\n"
     ]
    },
    {
     "data": {
      "application/vnd.jupyter.widget-view+json": {
       "model_id": "a15ef0a9b9574a0a999981981d125698",
       "version_major": 2,
       "version_minor": 0
      },
      "text/plain": [
       "Training:   0%|          | 0/5625 [00:00<?, ?it/s]"
      ]
     },
     "metadata": {},
     "output_type": "display_data"
    },
    {
     "name": "stdout",
     "output_type": "stream",
     "text": [
      "Epoch Average Training Loss: 0.8060\n"
     ]
    },
    {
     "data": {
      "application/vnd.jupyter.widget-view+json": {
       "model_id": "7a09e26375cc4970a27c603bfe03f2f8",
       "version_major": 2,
       "version_minor": 0
      },
      "text/plain": [
       "Validation:   0%|          | 0/625 [00:00<?, ?it/s]"
      ]
     },
     "metadata": {},
     "output_type": "display_data"
    },
    {
     "name": "stdout",
     "output_type": "stream",
     "text": [
      "Epoch Average Validation Loss: 0.7142\n",
      "Validation loss improved. Saving best model from epoch 2.\n",
      "========== Epoch 3/10 ==========\n"
     ]
    },
    {
     "data": {
      "application/vnd.jupyter.widget-view+json": {
       "model_id": "af0b9578ab22416787aca5bd9f2e85c4",
       "version_major": 2,
       "version_minor": 0
      },
      "text/plain": [
       "Training:   0%|          | 0/5625 [00:00<?, ?it/s]"
      ]
     },
     "metadata": {},
     "output_type": "display_data"
    },
    {
     "name": "stdout",
     "output_type": "stream",
     "text": [
      "Epoch Average Training Loss: 0.7061\n"
     ]
    },
    {
     "data": {
      "application/vnd.jupyter.widget-view+json": {
       "model_id": "55bf0ab05f2e47ee8183750696a2915e",
       "version_major": 2,
       "version_minor": 0
      },
      "text/plain": [
       "Validation:   0%|          | 0/625 [00:00<?, ?it/s]"
      ]
     },
     "metadata": {},
     "output_type": "display_data"
    },
    {
     "name": "stdout",
     "output_type": "stream",
     "text": [
      "Epoch Average Validation Loss: 0.6524\n",
      "Validation loss improved. Saving best model from epoch 3.\n",
      "========== Epoch 4/10 ==========\n"
     ]
    },
    {
     "data": {
      "application/vnd.jupyter.widget-view+json": {
       "model_id": "1f6947cf41714d3e8b44ceb60d376157",
       "version_major": 2,
       "version_minor": 0
      },
      "text/plain": [
       "Training:   0%|          | 0/5625 [00:00<?, ?it/s]"
      ]
     },
     "metadata": {},
     "output_type": "display_data"
    },
    {
     "name": "stderr",
     "output_type": "stream",
     "text": [
      "IOPub message rate exceeded.\n",
      "The Jupyter server will temporarily stop sending output\n",
      "to the client in order to avoid crashing it.\n",
      "To change this limit, set the config variable\n",
      "`--ServerApp.iopub_msg_rate_limit`.\n",
      "\n",
      "Current values:\n",
      "ServerApp.iopub_msg_rate_limit=1000.0 (msgs/sec)\n",
      "ServerApp.rate_limit_window=3.0 (secs)\n",
      "\n"
     ]
    },
    {
     "name": "stdout",
     "output_type": "stream",
     "text": [
      "Epoch Average Training Loss: 0.6455\n"
     ]
    },
    {
     "data": {
      "application/vnd.jupyter.widget-view+json": {
       "model_id": "b7b955f052bc4374ba8a7fac047a396c",
       "version_major": 2,
       "version_minor": 0
      },
      "text/plain": [
       "Validation:   0%|          | 0/625 [00:00<?, ?it/s]"
      ]
     },
     "metadata": {},
     "output_type": "display_data"
    },
    {
     "name": "stdout",
     "output_type": "stream",
     "text": [
      "Epoch Average Validation Loss: 0.5914\n",
      "Validation loss improved. Saving best model from epoch 4.\n",
      "========== Epoch 5/10 ==========\n"
     ]
    },
    {
     "data": {
      "application/vnd.jupyter.widget-view+json": {
       "model_id": "ed32406ffc044e1a966ebb68116b1308",
       "version_major": 2,
       "version_minor": 0
      },
      "text/plain": [
       "Training:   0%|          | 0/5625 [00:00<?, ?it/s]"
      ]
     },
     "metadata": {},
     "output_type": "display_data"
    },
    {
     "name": "stderr",
     "output_type": "stream",
     "text": [
      "IOPub message rate exceeded.\n",
      "The Jupyter server will temporarily stop sending output\n",
      "to the client in order to avoid crashing it.\n",
      "To change this limit, set the config variable\n",
      "`--ServerApp.iopub_msg_rate_limit`.\n",
      "\n",
      "Current values:\n",
      "ServerApp.iopub_msg_rate_limit=1000.0 (msgs/sec)\n",
      "ServerApp.rate_limit_window=3.0 (secs)\n",
      "\n"
     ]
    },
    {
     "name": "stdout",
     "output_type": "stream",
     "text": [
      "Epoch Average Training Loss: 0.5989\n"
     ]
    },
    {
     "data": {
      "application/vnd.jupyter.widget-view+json": {
       "model_id": "3100929425db4a47937c4e27b5c18bcc",
       "version_major": 2,
       "version_minor": 0
      },
      "text/plain": [
       "Validation:   0%|          | 0/625 [00:00<?, ?it/s]"
      ]
     },
     "metadata": {},
     "output_type": "display_data"
    },
    {
     "name": "stderr",
     "output_type": "stream",
     "text": [
      "IOPub message rate exceeded.\n",
      "The Jupyter server will temporarily stop sending output\n",
      "to the client in order to avoid crashing it.\n",
      "To change this limit, set the config variable\n",
      "`--ServerApp.iopub_msg_rate_limit`.\n",
      "\n",
      "Current values:\n",
      "ServerApp.iopub_msg_rate_limit=1000.0 (msgs/sec)\n",
      "ServerApp.rate_limit_window=3.0 (secs)\n",
      "\n",
      "IOPub message rate exceeded.\n",
      "The Jupyter server will temporarily stop sending output\n",
      "to the client in order to avoid crashing it.\n",
      "To change this limit, set the config variable\n",
      "`--ServerApp.iopub_msg_rate_limit`.\n",
      "\n",
      "Current values:\n",
      "ServerApp.iopub_msg_rate_limit=1000.0 (msgs/sec)\n",
      "ServerApp.rate_limit_window=3.0 (secs)\n",
      "\n"
     ]
    },
    {
     "name": "stdout",
     "output_type": "stream",
     "text": [
      "Epoch Average Training Loss: 0.5232\n"
     ]
    },
    {
     "data": {
      "application/vnd.jupyter.widget-view+json": {
       "model_id": "5db374c0dd82464493497e83979fd5e2",
       "version_major": 2,
       "version_minor": 0
      },
      "text/plain": [
       "Validation:   0%|          | 0/625 [00:00<?, ?it/s]"
      ]
     },
     "metadata": {},
     "output_type": "display_data"
    },
    {
     "name": "stdout",
     "output_type": "stream",
     "text": [
      "Epoch Average Validation Loss: 0.4699\n",
      "Validation loss improved. Saving best model from epoch 7.\n",
      "========== Epoch 8/10 ==========\n"
     ]
    },
    {
     "data": {
      "application/vnd.jupyter.widget-view+json": {
       "model_id": "f45ca52d6dbe4b38946a36498d301851",
       "version_major": 2,
       "version_minor": 0
      },
      "text/plain": [
       "Training:   0%|          | 0/5625 [00:00<?, ?it/s]"
      ]
     },
     "metadata": {},
     "output_type": "display_data"
    },
    {
     "name": "stdout",
     "output_type": "stream",
     "text": [
      "Epoch Average Training Loss: 0.4939\n"
     ]
    },
    {
     "data": {
      "application/vnd.jupyter.widget-view+json": {
       "model_id": "f59b2f8aae684ac297b7715dba0781dd",
       "version_major": 2,
       "version_minor": 0
      },
      "text/plain": [
       "Validation:   0%|          | 0/625 [00:00<?, ?it/s]"
      ]
     },
     "metadata": {},
     "output_type": "display_data"
    },
    {
     "name": "stdout",
     "output_type": "stream",
     "text": [
      "Epoch Average Validation Loss: 0.4753\n",
      "Validation loss did not improve. Patience: 1/2\n",
      "========== Epoch 9/10 ==========\n"
     ]
    },
    {
     "data": {
      "application/vnd.jupyter.widget-view+json": {
       "model_id": "cd40baa703344661a5e838db22ecfe64",
       "version_major": 2,
       "version_minor": 0
      },
      "text/plain": [
       "Training:   0%|          | 0/5625 [00:00<?, ?it/s]"
      ]
     },
     "metadata": {},
     "output_type": "display_data"
    },
    {
     "name": "stderr",
     "output_type": "stream",
     "text": [
      "IOPub message rate exceeded.\n",
      "The Jupyter server will temporarily stop sending output\n",
      "to the client in order to avoid crashing it.\n",
      "To change this limit, set the config variable\n",
      "`--ServerApp.iopub_msg_rate_limit`.\n",
      "\n",
      "Current values:\n",
      "ServerApp.iopub_msg_rate_limit=1000.0 (msgs/sec)\n",
      "ServerApp.rate_limit_window=3.0 (secs)\n",
      "\n"
     ]
    },
    {
     "name": "stdout",
     "output_type": "stream",
     "text": [
      "Epoch Average Training Loss: 0.4791\n"
     ]
    },
    {
     "data": {
      "application/vnd.jupyter.widget-view+json": {
       "model_id": "29bb3664a0c5416783dae53cf6e0d4c6",
       "version_major": 2,
       "version_minor": 0
      },
      "text/plain": [
       "Validation:   0%|          | 0/625 [00:00<?, ?it/s]"
      ]
     },
     "metadata": {},
     "output_type": "display_data"
    },
    {
     "name": "stdout",
     "output_type": "stream",
     "text": [
      "Epoch Average Validation Loss: 0.4476\n",
      "Validation loss improved. Saving best model from epoch 9.\n",
      "========== Epoch 10/10 ==========\n"
     ]
    },
    {
     "data": {
      "application/vnd.jupyter.widget-view+json": {
       "model_id": "837a669e235249dca96e61459673466b",
       "version_major": 2,
       "version_minor": 0
      },
      "text/plain": [
       "Training:   0%|          | 0/5625 [00:00<?, ?it/s]"
      ]
     },
     "metadata": {},
     "output_type": "display_data"
    },
    {
     "name": "stdout",
     "output_type": "stream",
     "text": [
      "Epoch Average Training Loss: 0.4577\n"
     ]
    },
    {
     "data": {
      "application/vnd.jupyter.widget-view+json": {
       "model_id": "1e20f86134c04c649c1addc1b80b5218",
       "version_major": 2,
       "version_minor": 0
      },
      "text/plain": [
       "Validation:   0%|          | 0/625 [00:00<?, ?it/s]"
      ]
     },
     "metadata": {},
     "output_type": "display_data"
    },
    {
     "name": "stdout",
     "output_type": "stream",
     "text": [
      "Epoch Average Validation Loss: 0.4439\n",
      "Validation loss improved. Saving best model from epoch 10.\n",
      "\n",
      "--- Experiment stroke_lora Finished ---\n",
      "Best validation loss: 0.4439 at epoch 10\n",
      "Results for stroke_lora saved to results_stroke_lora.json\n"
     ]
    }
   ],
   "source": [
    "# --- Run Stroke Experiment ---\n",
    "mode = 'stroke_lora'\n",
    "stroke_tokenizer = StrokeTokenizer(zh2text_file='autodl-tmp/zh2letter.txt')\n",
    "run_experiment(\n",
    "    mode=mode,\n",
    "    config=EXPERIMENT_CONFIGS[mode],\n",
    "    train_dataset=train_dataset,\n",
    "    val_dataset=val_dataset,\n",
    "    custom_tokenizer=stroke_tokenizer\n",
    ")"
   ]
  },
  {
   "cell_type": "code",
   "execution_count": 11,
   "id": "54a1e734-8778-486b-9300-2aecdb859073",
   "metadata": {
    "tags": []
   },
   "outputs": [
    {
     "data": {
      "image/png": "[encoded data removed]",
      "text/plain": [
       "<Figure size 1800x700 with 2 Axes>"
      ]
     },
     "metadata": {},
     "output_type": "display_data"
    },
    {
     "name": "stdout",
     "output_type": "stream",
     "text": [
      "\n",
      "--- Final Results Summary (N=50,000) ---\n",
      "| Model         |   Best Val Loss |   Best Epoch |\n",
      "|:--------------|----------------:|-------------:|\n",
      "| baseline_lora |       0.0905075 |            4 |\n",
      "| pinyin_lora   |       0.300988  |            9 |\n",
      "| stroke_lora   |       0.443868  |           10 |\n"
     ]
    }
   ],
   "source": [
    "# [替换此单元格]\n",
    "import json\n",
    "import matplotlib.pyplot as plt\n",
    "import glob\n",
    "import pandas as pd\n",
    "import os\n",
    "\n",
    "# 1. 查找并加载所有实验结果文件\n",
    "result_files = glob.glob('results_*.json')\n",
    "all_results = []\n",
    "for file_path in sorted(result_files):\n",
    "    with open(file_path, 'r', encoding='utf-8') as f:\n",
    "        result = json.load(f)\n",
    "        mode_name = os.path.basename(file_path).replace('results_', '').replace('.json', '')\n",
    "        result['mode_name'] = mode_name\n",
    "        all_results.append(result)\n",
    "\n",
    "# 2. 绘制 Loss 曲线\n",
    "plt.style.use('seaborn-v0_8-whitegrid')\n",
    "fig, ax = plt.subplots(1, 2, figsize=(18, 7))\n",
    "\n",
    "# 绘制 Training Loss\n",
    "for result in all_results:\n",
    "    mode = result['mode_name']\n",
    "    history = result['history']\n",
    "    ax[0].plot(range(1, len(history['train_loss']) + 1), history['train_loss'], 'o--', label=f'{mode}')\n",
    "ax[0].set_title('Training Loss Curves (Log Scale)', fontsize=14)\n",
    "ax[0].set_xlabel('Epochs')\n",
    "ax[0].set_ylabel('Loss')\n",
    "ax[0].legend()\n",
    "ax[0].grid(True)\n",
    "ax[0].set_yscale('log') # <-- [新增] 将 Y 轴设置为对数刻度\n",
    "\n",
    "# 绘制 Validation Loss\n",
    "for result in all_results:\n",
    "    mode = result['mode_name']\n",
    "    history = result['history']\n",
    "    best_epoch = result['best_epoch']\n",
    "    best_loss = result['best_val_loss']\n",
    "    line, = ax[1].plot(range(1, len(history['val_loss']) + 1), history['val_loss'], 'o--', label=f'{mode} (Best: {best_loss:.4f})')\n",
    "    ax[1].plot(best_epoch, best_loss, 'X', markersize=12, color=line.get_color())\n",
    "ax[1].set_title('Validation Loss Curves (Log Scale)', fontsize=14)\n",
    "ax[1].set_xlabel('Epochs')\n",
    "ax[1].set_ylabel('Loss')\n",
    "ax[1].legend()\n",
    "ax[1].grid(True)\n",
    "ax[1].set_yscale('log') # <-- [新增] 将 Y 轴设置为对数刻度\n",
    "\n",
    "plt.suptitle('Model Performance Comparison (N=50,000)', fontsize=18)\n",
    "plt.savefig('loss_curves_50k_log.png') # 保存图表\n",
    "plt.show()\n",
    "\n",
    "# 3. 打印最终结果表格 (不变)\n",
    "summary_df = pd.DataFrame([{\n",
    "    \"Model\": r['mode_name'],\n",
    "    \"Best Val Loss\": r['best_val_loss'],\n",
    "    \"Best Epoch\": r['best_epoch']\n",
    "} for r in all_results]).sort_values(by=\"Best Val Loss\")\n",
    "\n",
    "print(\"\\n--- Final Results Summary (N=50,000) ---\")\n",
    "print(summary_df.to_markdown(index=False))"
   ]
  },
  {
   "cell_type": "code",
   "execution_count": 10,
   "id": "a7b0486a-9484-40ea-9541-0d63d2fa2529",
   "metadata": {
    "tags": []
   },
   "outputs": [
    {
     "data": {
      "image/png": "[encoded data removed]",
      "text/plain": [
       "<Figure size 1000x600 with 1 Axes>"
      ]
     },
     "metadata": {},
     "output_type": "display_data"
    }
   ],
   "source": [
    "# [新增此单元格]\n",
    "# 从已加载的结果中筛选出 baseline 的数据\n",
    "baseline_result = next((r for r in all_results if r['mode_name'] == 'baseline_lora'), None)\n",
    "\n",
    "if baseline_result:\n",
    "    history = baseline_result['history']\n",
    "    val_loss = history['val_loss']\n",
    "    best_epoch = baseline_result['best_epoch']\n",
    "    best_loss = baseline_result['best_val_loss']\n",
    "\n",
    "    # 单独绘制 Baseline 的验证损失曲线\n",
    "    plt.figure(figsize=(10, 6))\n",
    "    plt.plot(range(1, len(val_loss) + 1), val_loss, 'o--', label=f'baseline_lora Val Loss (Best: {best_loss:.4f})')\n",
    "    plt.plot(best_epoch, best_loss, 'X', markersize=12, label=f'Best Epoch: {best_epoch}')\n",
    "    \n",
    "    plt.title('Zoomed-in View: Baseline Validation Loss Curve', fontsize=14)\n",
    "    plt.xlabel('Epochs')\n",
    "    plt.ylabel('Loss')\n",
    "    plt.legend()\n",
    "    plt.grid(True)\n",
    "    # 设置一个更精细的Y轴范围来放大细节\n",
    "    plt.ylim(min(val_loss) * 0.95, max(val_loss) * 1.05)\n",
    "    plt.xticks(range(1, len(val_loss) + 1)) # 确保每个epoch都有刻度\n",
    "    plt.show()\n",
    "else:\n",
    "    print(\"未能找到 'baseline_lora' 的实验结果。\")"
   ]
  },
  {
   "cell_type": "code",
   "execution_count": null,
   "id": "4f792e7f-ebc2-4891-b70e-56d32f062bfd",
   "metadata": {},
   "outputs": [],
   "source": []
  },
  {
   "cell_type": "code",
   "execution_count": null,
   "id": "431bd482-6fda-4336-ae25-395103c0bbab",
   "metadata": {},
   "outputs": [],
   "source": []
  },
  {
   "cell_type": "code",
   "execution_count": 1,
   "id": "aa5ca973-a74b-4790-865b-194cc715ec58",
   "metadata": {
    "tags": []
   },
   "outputs": [
    {
     "name": "stdout",
     "output_type": "stream",
     "text": [
      "[NbConvertApp] Converting notebook 主实验.ipynb to html\n",
      "[NbConvertApp] Writing 861724 bytes to 主实验.html\n"
     ]
    }
   ],
   "source": [
    "!jupyter nbconvert --to html 主实验.ipynb"
   ]
  },
  {
   "cell_type": "code",
   "execution_count": null,
   "id": "101a10e3-3976-4655-9d8d-9437e5c4a133",
   "metadata": {},
   "outputs": [],
   "source": []
  }
 ],
 "metadata": {
  "kernelspec": {
   "display_name": "Python 3 (ipykernel)",
   "language": "python",
   "name": "python3"
  },
  "language_info": {
   "codemirror_mode": {
    "name": "ipython",
    "version": 3
   },
   "file_extension": ".py",
   "mimetype": "text/x-python",
   "name": "python",
   "nbconvert_exporter": "python",
   "pygments_lexer": "ipython3",
   "version": "3.8.10"
  }
 },
 "nbformat": 4,
 "nbformat_minor": 5
}
